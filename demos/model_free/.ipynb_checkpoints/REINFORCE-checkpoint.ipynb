{
 "cells": [
  {
   "cell_type": "code",
   "execution_count": 1,
   "metadata": {},
   "outputs": [],
   "source": [
    "import gym\n",
    "#from robot_env.cartpole import Cartpole\n",
    "import numpy as np\n",
    "import matplotlib.pyplot as plt\n",
    "import copy "
   ]
  },
  {
   "cell_type": "code",
   "execution_count": 2,
   "metadata": {},
   "outputs": [],
   "source": [
    "NUM_EPISODES = 10000\n",
    "LEARNING_RATE = 0.0\n",
    "GAMMA = 0.99\n",
    "\n",
    "# Create gym and seed numpy\n",
    "env = gym.make('CartPole-v1')\n",
    "nA = env.action_space.n\n",
    "np.random.seed(1)\n",
    "\n",
    "# Init weight\n",
    "w = np.random.rand(4, 2)\n",
    "\n",
    "# Keep stats for final print of graph\n",
    "episode_rewards = []"
   ]
  },
  {
   "cell_type": "code",
   "execution_count": 3,
   "metadata": {},
   "outputs": [],
   "source": [
    "# Our policy that maps state to action parameterized by w\n",
    "def policy(state,w):\n",
    "    z = state.dot(w)\n",
    "    exp = np.exp(z)\n",
    "    return exp/np.sum(exp)\n",
    "\n",
    "# Vectorized softmax Jacobian\n",
    "def softmax_grad(softmax):\n",
    "    s = softmax.reshape(-1,1)\n",
    "    return np.diagflat(s) - np.dot(s, s.T)"
   ]
  },
  {
   "cell_type": "code",
   "execution_count": 4,
   "metadata": {},
   "outputs": [
    {
     "name": "stdout",
     "output_type": "stream",
     "text": [
      "EP: 9999 Score: 500.0\r"
     ]
    }
   ],
   "source": [
    "# Main loop \n",
    "# Make sure you update your weights AFTER each episode\n",
    "for e in range(NUM_EPISODES):\n",
    "    if(e%2000==0 and LEARNING_RATE < 0.0008):\n",
    "        LEARNING_RATE += 0.0002\n",
    "    #if(e%200==0):\n",
    "        #LEARNING_RATE -= 0.0001\n",
    "    state = env.reset()[None,:]\n",
    "\n",
    "    grads = []\t\n",
    "    rewards = []\n",
    "\n",
    "    # Keep track of game score to print\n",
    "    score = 0\n",
    "\n",
    "    while True:\n",
    "\n",
    "        # Uncomment to see your model train in real time (slower)\n",
    "        #if (e%200==0):\n",
    "            #env.render()\n",
    "        #env.render()\n",
    "\n",
    "        # Sample from policy and take action in environment\n",
    "        probs = policy(state,w)\n",
    "        action = np.random.choice(nA,p=probs[0])\n",
    "        next_state,reward,done,_ = env.step(action)\n",
    "        next_state = next_state[None,:]\n",
    "\n",
    "        # Compute gradient and save with reward in memory for our weight updates\n",
    "        dsoftmax = softmax_grad(probs)[action,:]\n",
    "        dlog = dsoftmax / probs[0,action]\n",
    "        grad = state.T.dot(dlog[None,:])\n",
    "\n",
    "        grads.append(grad)\n",
    "        rewards.append(reward)\n",
    "\n",
    "        score+=reward\n",
    "\n",
    "        # Dont forget to update your old state to the new state\n",
    "        state = next_state\n",
    "\n",
    "        if done:\n",
    "            break\n",
    "\n",
    "    # Weight update\n",
    "    for i in range(len(grads)):\n",
    "\n",
    "        # Loop through everything that happend in the episode and update towards the log policy gradient times **FUTURE** reward\n",
    "        w += LEARNING_RATE * grads[i] * sum([ r * (GAMMA ** r) for t,r in enumerate(rewards[i:])])\n",
    "        \n",
    "    # Append for logging and print\n",
    "    episode_rewards.append(score) \n",
    "    print(\"EP: \" + str(e) + \" Score: \" + str(score), end=\"\\r\", flush=False) \n"
   ]
  },
  {
   "cell_type": "code",
   "execution_count": 5,
   "metadata": {},
   "outputs": [
    {
     "data": {
      "image/png": "[encoded data removed]",
      "text/plain": [
       "<Figure size 432x288 with 1 Axes>"
      ]
     },
     "metadata": {
      "needs_background": "light"
     },
     "output_type": "display_data"
    }
   ],
   "source": [
    "plt.plot(np.arange(NUM_EPISODES),episode_rewards)\n",
    "plt.show()\n",
    "env.close()"
   ]
  },
  {
   "cell_type": "code",
   "execution_count": 6,
   "metadata": {},
   "outputs": [
    {
     "name": "stdout",
     "output_type": "stream",
     "text": [
      "0.001\n"
     ]
    }
   ],
   "source": [
    "print(LEARNING_RATE)"
   ]
  },
  {
   "cell_type": "code",
   "execution_count": 7,
   "metadata": {},
   "outputs": [
    {
     "name": "stdout",
     "output_type": "stream",
     "text": [
      "Mean reward:  425.8998\n",
      "Std Deviation:  127.42639408125326\n",
      "Variance:  10.82499060570057\n"
     ]
    }
   ],
   "source": [
    "import statistics as stats\n",
    "print(\"Mean reward: \",stats.mean(episode_rewards))\n",
    "print(\"Std Deviation: \",stats.stdev(episode_rewards))\n",
    "print(\"Variance: \",stats.variance(episode_rewards)/1500)"
   ]
  },
  {
   "cell_type": "code",
   "execution_count": null,
   "metadata": {},
   "outputs": [],
   "source": []
  }
 ],
 "metadata": {
  "kernelspec": {
   "display_name": "Python 3",
   "language": "python",
   "name": "python3"
  },
  "language_info": {
   "codemirror_mode": {
    "name": "ipython",
    "version": 3
   },
   "file_extension": ".py",
   "mimetype": "text/x-python",
   "name": "python",
   "nbconvert_exporter": "python",
   "pygments_lexer": "ipython3",
   "version": "3.8.3"
  }
 },
 "nbformat": 4,
 "nbformat_minor": 4
}
